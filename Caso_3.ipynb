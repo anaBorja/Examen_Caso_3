{
 "cells": [
  {
   "cell_type": "markdown",
   "metadata": {
    "application/vnd.databricks.v1+cell": {
     "cellMetadata": {},
     "inputWidgets": {},
     "nuid": "1f826429-1b0b-452b-98d5-d724d06f8ba3",
     "showTitle": false,
     "tableResultSettingsMap": {},
     "title": ""
    }
   },
   "source": [
    "# Explorando tendencias de mercado de Airbnb"
   ]
  },
  {
   "cell_type": "markdown",
   "metadata": {
    "application/vnd.databricks.v1+cell": {
     "cellMetadata": {},
     "inputWidgets": {},
     "nuid": "30017573-ddfa-442e-931f-69e52cab3f33",
     "showTitle": false,
     "tableResultSettingsMap": {},
     "title": ""
    }
   },
   "source": [
    "La ciudad de Nueva York tiene una variedad de anuncios de Airbnb para satisfacer la alta demanda de alojamiento temporal para viajeros, con diferentes niveles de precios, tipos de habitaciones y ubicaciones."
   ]
  },
  {
   "cell_type": "markdown",
   "metadata": {
    "application/vnd.databricks.v1+cell": {
     "cellMetadata": {},
     "inputWidgets": {},
     "nuid": "9113a8f5-7192-4887-b383-2d285a405f0f",
     "showTitle": false,
     "tableResultSettingsMap": {},
     "title": ""
    }
   },
   "source": [
    "La ciudad de Nueva York, es una de las ciudades más visitadas del mundo. Hay muchos anuncios de Airbnb en la ciudad de Nueva York para satisfacer la alta demanda de alojamiento temporal para viajeros, que puede durar desde unas pocas noches hasta muchos meses. En este proyecto, analizaremos más de cerca el mercado de Airbnb de Nueva York combinando datos de varios tipos de archivos como .csv, .tsv y .xlsx.\n",
    "\n",
    "Recuerde que los archivos CSV, TSV y Excel son tres formatos comunes para almacenar datos. Tiene a su disposición [tres archivos](https://tajamar365.sharepoint.com/:f:/s/3405-MasterIA2024-2025/EoXMgjAJLLNJqWDyKDig8kABSUkpWj_HGQjl267qNnHS9g?e=foxjFc) que contienen datos sobre los anuncios de Airbnb de 2019:  \n",
    "\n",
    "- `airbnb_price.csv `: Este es un archivo CSV que contiene datos sobre precios y ubicaciones de anuncios de Airbnb.  \n",
    "  1. `listing_id`: identificador único del anuncio  \n",
    "  2. `price`: precio del anuncio por noche en USD  \n",
    "  3. `nbhood_full`: nombre del distrito y del barrio donde se encuentra el anuncio  \n",
    "    \n",
    "\n",
    "- `airbnb_room_type.xlsx`: Este es un archivo Excel que contiene datos sobre las descripciones de los anuncios de Airbnb y los tipos de habitaciones.  \n",
    "  1. `listing_id`: identificador único del anuncio  \n",
    "  2. `description`: descripción del anuncio     \n",
    "  3. `room_type`: Airbnb tiene tres tipos de habitaciones: habitaciones compartidas, habitaciones privadas y casas o apartamentos completos \n",
    "\n",
    "\n",
    "- `airbnb_last_review.tsv`: Este es un archivo TSV que contiene datos sobre los nombres de los anfitriones de Airbnb y las fechas de revisión.  \n",
    "  1. `listing_id`: identificador único del anuncio  \n",
    "  2. `host_name`:  nombre del anfitrión del anuncio  \n",
    "  3. `last_review`: echa en la que se revisó el anuncio por última vez   "
   ]
  },
  {
   "cell_type": "markdown",
   "metadata": {
    "application/vnd.databricks.v1+cell": {
     "cellMetadata": {},
     "inputWidgets": {},
     "nuid": "bab5e15d-251d-4092-9ec3-61f8a0d84f43",
     "showTitle": false,
     "tableResultSettingsMap": {},
     "title": ""
    }
   },
   "source": [
    "Como consultor que trabaja para una empresa inmobiliaria emergente, ha recopilado datos de anuncios de Airbnb de varias fuentes para investigar el mercado de alquileres a corto plazo en Nueva York. Analizará estos datos para brindar información sobre habitaciones privadas a la empresa inmobiliaria."
   ]
  },
  {
   "cell_type": "markdown",
   "metadata": {
    "application/vnd.databricks.v1+cell": {
     "cellMetadata": {},
     "inputWidgets": {},
     "nuid": "3db66806-50c8-46b2-ab8b-fb66b3602f7d",
     "showTitle": false,
     "tableResultSettingsMap": {},
     "title": ""
    }
   },
   "source": [
    "- ¿Cuáles son las fechas de las primeras y las últimas reseñas? Almacene estos valores como dos variables independientes con los nombres que prefiera.\n",
    "- ¿Cuántos de los anuncios son habitaciones privadas? Guárdelo en cualquier variable.\n",
    "- ¿Cuál es el precio promedio de los anuncios? Redondee a los dos decimales más cercanos y guárdelo en una variable.\n",
    "- Combine las nuevas variables en un DataFrame llamado review_dates con cuatro columnas en el siguiente orden: first_reviewed, last_reviewed, nb_private_rooms y avg_price. El DataFrame solo debe contener una fila de valores."
   ]
  },
  {
   "cell_type": "code",
   "execution_count": 0,
   "metadata": {
    "application/vnd.databricks.v1+cell": {
     "cellMetadata": {
      "byteLimit": 2048000,
      "rowLimit": 10000
     },
     "inputWidgets": {},
     "nuid": "bc87f8df-a1fb-47d1-a2a4-54b38ad97511",
     "showTitle": false,
     "tableResultSettingsMap": {},
     "title": ""
    }
   },
   "outputs": [],
   "source": [
    "from pyspark.sql import (\n",
    "    SparkSession,\n",
    "    types,\n",
    "    functions as F,\n",
    ")\n",
    "\n",
    "spark = (\n",
    "    SparkSession\n",
    "    .builder\n",
    "    .appName('cleaning_orders_dataset_with_pyspark')\n",
    "    .getOrCreate()\n",
    ")\n"
   ]
  },
  {
   "cell_type": "code",
   "execution_count": 0,
   "metadata": {
    "application/vnd.databricks.v1+cell": {
     "cellMetadata": {
      "byteLimit": 2048000,
      "rowLimit": 10000
     },
     "inputWidgets": {},
     "nuid": "bb6146e5-015b-4e98-ba04-c05f641288cd",
     "showTitle": false,
     "tableResultSettingsMap": {},
     "title": ""
    }
   },
   "outputs": [],
   "source": [
    "df_price = spark.read.csv(\"/FileStore/caso_3/airbnb_price.csv\", header=True)\n",
    "df_room = spark.read.csv (\"/FileStore/caso_3/airbnb_room_type_airbnb_room_type_.csv\", header =True)\n",
    "df_review = spark.read.option(\"delimiter\", \"\\t\").csv(\"/FileStore/caso_3/airbnb_last_review.tsv\", header=True, inferSchema=True)\n"
   ]
  },
  {
   "cell_type": "code",
   "execution_count": 0,
   "metadata": {
    "application/vnd.databricks.v1+cell": {
     "cellMetadata": {
      "byteLimit": 2048000,
      "rowLimit": 10000
     },
     "inputWidgets": {},
     "nuid": "e24ec9fb-1935-43ee-8852-a2d6054cfcb3",
     "showTitle": false,
     "tableResultSettingsMap": {},
     "title": ""
    }
   },
   "outputs": [
    {
     "name": "stdout",
     "output_type": "stream",
     "text": [
      "+----------+-----------+--------------------+\n",
      "|listing_id|      price|         nbhood_full|\n",
      "+----------+-----------+--------------------+\n",
      "|      2595|225 dollars|  Manhattan, Midtown|\n",
      "|      3831| 89 dollars|Brooklyn, Clinton...|\n",
      "|      5099|200 dollars|Manhattan, Murray...|\n",
      "|      5178| 79 dollars|Manhattan, Hell's...|\n",
      "|      5238|150 dollars|Manhattan, Chinatown|\n",
      "|      5295|135 dollars|Manhattan, Upper ...|\n",
      "|      5441| 85 dollars|Manhattan, Hell's...|\n",
      "|      5803| 89 dollars|Brooklyn, South S...|\n",
      "|      6021| 85 dollars|Manhattan, Upper ...|\n",
      "|      6848|140 dollars|Brooklyn, William...|\n",
      "|      7097|215 dollars|Brooklyn, Fort Gr...|\n",
      "|      7322|140 dollars|  Manhattan, Chelsea|\n",
      "|      7726| 99 dollars|Brooklyn, Crown H...|\n",
      "|      8024|130 dollars|Brooklyn, Park Slope|\n",
      "|      8025| 80 dollars|Brooklyn, Park Slope|\n",
      "|      8110|110 dollars|Brooklyn, Park Slope|\n",
      "|      8490|120 dollars|Brooklyn, Bedford...|\n",
      "|      8505| 60 dollars|Brooklyn, Windsor...|\n",
      "|      9518| 44 dollars|   Manhattan, Inwood|\n",
      "|      9657|180 dollars|Manhattan, East V...|\n",
      "+----------+-----------+--------------------+\n",
      "only showing top 20 rows\n",
      "\n"
     ]
    }
   ],
   "source": [
    "df_price.show()"
   ]
  },
  {
   "cell_type": "code",
   "execution_count": 0,
   "metadata": {
    "application/vnd.databricks.v1+cell": {
     "cellMetadata": {
      "byteLimit": 2048000,
      "rowLimit": 10000
     },
     "inputWidgets": {},
     "nuid": "49d9665a-654c-45e1-b161-40699251055d",
     "showTitle": false,
     "tableResultSettingsMap": {},
     "title": ""
    }
   },
   "outputs": [
    {
     "name": "stdout",
     "output_type": "stream",
     "text": [
      "+----------+----------------+---------------+\n",
      "|listing_id|       host_name|    last_review|\n",
      "+----------+----------------+---------------+\n",
      "|      2595|        Jennifer|    May 21 2019|\n",
      "|      3831|     LisaRoxanne|   July 05 2019|\n",
      "|      5099|           Chris|   June 22 2019|\n",
      "|      5178|        Shunichi|   June 24 2019|\n",
      "|      5238|             Ben|   June 09 2019|\n",
      "|      5295|            Lena|   June 22 2019|\n",
      "|      5441|            Kate|   June 23 2019|\n",
      "|      5803|          Laurie|   June 24 2019|\n",
      "|      6021|         Claudio|   July 05 2019|\n",
      "|      6848|   Allen & Irina|   June 29 2019|\n",
      "|      7097|            Jane|   June 28 2019|\n",
      "|      7322|            Doti|   July 01 2019|\n",
      "|      7726|Adam And Charity|   June 22 2019|\n",
      "|      8024|           Lisel|   July 01 2019|\n",
      "|      8025|           Lisel|January 01 2019|\n",
      "|      8110|           Lisel|   July 02 2019|\n",
      "|      8490|        Nathalie|   June 19 2019|\n",
      "|      8505|         Gregory|   June 23 2019|\n",
      "|      9518|            Shon|   June 15 2019|\n",
      "|      9657|            Dana|  April 19 2019|\n",
      "+----------+----------------+---------------+\n",
      "only showing top 20 rows\n",
      "\n"
     ]
    }
   ],
   "source": [
    "df_review.show()"
   ]
  },
  {
   "cell_type": "code",
   "execution_count": 0,
   "metadata": {
    "application/vnd.databricks.v1+cell": {
     "cellMetadata": {
      "byteLimit": 2048000,
      "rowLimit": 10000
     },
     "inputWidgets": {},
     "nuid": "a306a557-83c0-4d0f-989f-b843cb5540b0",
     "showTitle": false,
     "tableResultSettingsMap": {},
     "title": ""
    }
   },
   "outputs": [
    {
     "name": "stdout",
     "output_type": "stream",
     "text": [
      "+--------------------------------+\n",
      "|listing_id;description;room_type|\n",
      "+--------------------------------+\n",
      "|            2595;Skylit Midto...|\n",
      "|            3831;Cozy Entire ...|\n",
      "|            5099;Large Cozy 1...|\n",
      "|            5178;Large Furnis...|\n",
      "|            5238;Cute & Cozy ...|\n",
      "|            5295;Beautiful 1b...|\n",
      "|            5441;Central Manh...|\n",
      "|              5803;Lovely Room 1|\n",
      "|            6021;Wonderful Gu...|\n",
      "|            6848;Only 2 stops...|\n",
      "|            7097;Perfect for ...|\n",
      "|            7322;Chelsea Perf...|\n",
      "|            7726;Hip Historic...|\n",
      "|            8024;CBG CtyBGd H...|\n",
      "|            8025;CBG Helps Ha...|\n",
      "|            8110;CBG Helps Ha...|\n",
      "|            8490;MAISON DES S...|\n",
      "|            8505;Sunny Bedroo...|\n",
      "|                   9518;SPACIOUS|\n",
      "|            9657;Modern 1 BR ...|\n",
      "+--------------------------------+\n",
      "only showing top 20 rows\n",
      "\n"
     ]
    }
   ],
   "source": [
    "df_room.show()"
   ]
  },
  {
   "cell_type": "code",
   "execution_count": 0,
   "metadata": {
    "application/vnd.databricks.v1+cell": {
     "cellMetadata": {
      "byteLimit": 2048000,
      "rowLimit": 10000
     },
     "inputWidgets": {},
     "nuid": "8a68a7d0-38c6-417b-bd77-abbf33ab98db",
     "showTitle": false,
     "tableResultSettingsMap": {},
     "title": ""
    }
   },
   "outputs": [
    {
     "name": "stdout",
     "output_type": "stream",
     "text": [
      "+----------+----------+\n",
      "|      last|      soon|\n",
      "+----------+----------+\n",
      "|2019-01-01|2019-07-09|\n",
      "+----------+----------+\n",
      "\n"
     ]
    }
   ],
   "source": [
    "from pyspark.sql.functions import min, max, to_date\n",
    "spark.conf.set(\"spark.sql.legacy.timeParserPolicy\", \"LEGACY\")\n",
    "\n",
    "\n",
    "#se cambia de formato de fecha para poder hacer la comparacion\n",
    "df_review = df_review.withColumn(\"last_review\", to_date(df_review[\"last_review\"], \"MMM dd yyyy\"))\n",
    "\n",
    "\n",
    "df_review = df_review.na.drop(subset=[\"last_review\"])\n",
    "\n",
    "\n",
    "review = df_review.select(\n",
    "    min(\"last_review\").alias(\"last\"),\n",
    "    max(\"last_review\").alias(\"soon\")\n",
    ")\n",
    "\n",
    "\n",
    "review.show()\n",
    "\n"
   ]
  },
  {
   "cell_type": "code",
   "execution_count": 0,
   "metadata": {
    "application/vnd.databricks.v1+cell": {
     "cellMetadata": {
      "byteLimit": 2048000,
      "rowLimit": 10000
     },
     "inputWidgets": {},
     "nuid": "5968ce91-2cac-4a30-935b-d818154a91b8",
     "showTitle": false,
     "tableResultSettingsMap": {},
     "title": ""
    }
   },
   "outputs": [
    {
     "name": "stdout",
     "output_type": "stream",
     "text": [
      "<class 'pyspark.sql.dataframe.DataFrame'>\n",
      "+----------+--------------------+---------------+\n",
      "|listing_id|         description|      room_type|\n",
      "+----------+--------------------+---------------+\n",
      "|      2595|Skylit Midtown Ca...|Entire home/apt|\n",
      "|      3831|Cozy Entire Floor...|Entire home/apt|\n",
      "|      5099|Large Cozy 1 BR A...|Entire home/apt|\n",
      "|      5178|Large Furnished R...|   private room|\n",
      "|      5238|Cute & Cozy Lower...|Entire home/apt|\n",
      "|      5295|Beautiful 1br on ...|Entire home/apt|\n",
      "|      5441|Central Manhattan...|   Private room|\n",
      "|      5803|       Lovely Room 1|           null|\n",
      "|      6021|Wonderful Guest B...|   Private room|\n",
      "|      6848|Only 2 stops to M...|entire home/apt|\n",
      "|      7097|Perfect for Your ...|Entire home/apt|\n",
      "|      7322|     Chelsea Perfect|   Private room|\n",
      "|      7726|Hip Historic Brow...|Entire home/apt|\n",
      "|      8024|CBG CtyBGd HelpsH...|   PRIVATE ROOM|\n",
      "|      8025|CBG Helps Haiti R...|   PRIVATE ROOM|\n",
      "|      8110|CBG Helps Haiti R...|   Private room|\n",
      "|      8490| MAISON DES SIRENES1|           null|\n",
      "|      8505|Sunny Bedroom Acr...|   Private room|\n",
      "|      9518|            SPACIOUS|           null|\n",
      "|      9657|Modern 1 BR / NYC...|entire home/apt|\n",
      "+----------+--------------------+---------------+\n",
      "only showing top 20 rows\n",
      "\n"
     ]
    }
   ],
   "source": [
    "#¿Cuántos de los anuncios son habitaciones privadas? Guárdelo en cualquier variable.\n",
    "\n",
    "from pyspark.sql.functions import split, col\n",
    "\n",
    "print(type(df_room)) # para saber si es un dataframe \n",
    "df_room = df_room.withColumn(\"listing_id\", split(col(\"listing_id;description;room_type\"), \";\")[0]) \\\n",
    "                 .withColumn(\"description\", split(col(\"listing_id;description;room_type\"), \";\")[1]) \\\n",
    "                 .withColumn(\"room_type\", split(col(\"listing_id;description;room_type\"), \";\")[2])\n",
    "\n",
    "df_room = df_room.drop(\"listing_id;description;room_type\")\n",
    "\n",
    "df_room.show()\n",
    "\n",
    " "
   ]
  },
  {
   "cell_type": "code",
   "execution_count": 0,
   "metadata": {
    "application/vnd.databricks.v1+cell": {
     "cellMetadata": {
      "byteLimit": 2048000,
      "rowLimit": 10000
     },
     "inputWidgets": {},
     "nuid": "860875c6-8002-495d-a120-87bf67de6beb",
     "showTitle": false,
     "tableResultSettingsMap": {},
     "title": ""
    }
   },
   "outputs": [
    {
     "name": "stdout",
     "output_type": "stream",
     "text": [
      "+----------+--------------------+---------------+\n",
      "|listing_id|         description|      room_type|\n",
      "+----------+--------------------+---------------+\n",
      "|      2595|Skylit Midtown Ca...|Entire home/apt|\n",
      "|      3831|Cozy Entire Floor...|Entire home/apt|\n",
      "|      5099|Large Cozy 1 BR A...|Entire home/apt|\n",
      "|      5178|Large Furnished R...|   private room|\n",
      "|      5238|Cute & Cozy Lower...|Entire home/apt|\n",
      "|      5295|Beautiful 1br on ...|Entire home/apt|\n",
      "|      5441|Central Manhattan...|   Private room|\n",
      "|      6021|Wonderful Guest B...|   Private room|\n",
      "|      6848|Only 2 stops to M...|entire home/apt|\n",
      "|      7097|Perfect for Your ...|Entire home/apt|\n",
      "|      7322|     Chelsea Perfect|   Private room|\n",
      "|      7726|Hip Historic Brow...|Entire home/apt|\n",
      "|      8024|CBG CtyBGd HelpsH...|   PRIVATE ROOM|\n",
      "|      8025|CBG Helps Haiti R...|   PRIVATE ROOM|\n",
      "|      8110|CBG Helps Haiti R...|   Private room|\n",
      "|      8505|Sunny Bedroom Acr...|   Private room|\n",
      "|      9657|Modern 1 BR / NYC...|entire home/apt|\n",
      "|      9668|front room/double...|   PRIVATE ROOM|\n",
      "|      9704|Spacious 1 bedroo...|   Private room|\n",
      "|      9782|Loft in Williamsb...|   Private room|\n",
      "+----------+--------------------+---------------+\n",
      "only showing top 20 rows\n",
      "\n"
     ]
    }
   ],
   "source": [
    "#segunda limpieza quietar null\n",
    "\n",
    "df_room = df_room.dropna(subset=[\"listing_id\", \"description\", \"room_type\"])\n",
    "\n",
    "df_room.show()"
   ]
  },
  {
   "cell_type": "code",
   "execution_count": 0,
   "metadata": {
    "application/vnd.databricks.v1+cell": {
     "cellMetadata": {
      "byteLimit": 2048000,
      "rowLimit": 10000
     },
     "inputWidgets": {},
     "nuid": "4a06c2eb-1697-4629-80a2-dc0d327dc848",
     "showTitle": false,
     "tableResultSettingsMap": {},
     "title": ""
    }
   },
   "outputs": [
    {
     "name": "stdout",
     "output_type": "stream",
     "text": [
      "6153\n"
     ]
    }
   ],
   "source": [
    "\n",
    "#hago el calculo aparte porque si ejecuto todo la transformacion usando split da error AttributeError: 'int' object has no attribute 'withColumn'\n",
    "\n",
    "\n",
    "private_room = df_room.filter(df_room[\"room_type\"] == \"Private room\").count()\n",
    "\n",
    "print(private_room)"
   ]
  },
  {
   "cell_type": "code",
   "execution_count": 0,
   "metadata": {
    "application/vnd.databricks.v1+cell": {
     "cellMetadata": {
      "byteLimit": 2048000,
      "rowLimit": 10000
     },
     "inputWidgets": {},
     "nuid": "59184d36-6731-4856-9943-a30bf22ce140",
     "showTitle": false,
     "tableResultSettingsMap": {},
     "title": ""
    }
   },
   "outputs": [
    {
     "name": "stdout",
     "output_type": "stream",
     "text": [
      "+----------+-----------+--------------------+------------+\n",
      "|listing_id|      price|         nbhood_full|price_number|\n",
      "+----------+-----------+--------------------+------------+\n",
      "|      2595|225 dollars|  Manhattan, Midtown|         225|\n",
      "|      3831| 89 dollars|Brooklyn, Clinton...|          89|\n",
      "|      5099|200 dollars|Manhattan, Murray...|         200|\n",
      "|      5178| 79 dollars|Manhattan, Hell's...|          79|\n",
      "|      5238|150 dollars|Manhattan, Chinatown|         150|\n",
      "|      5295|135 dollars|Manhattan, Upper ...|         135|\n",
      "|      5441| 85 dollars|Manhattan, Hell's...|          85|\n",
      "|      5803| 89 dollars|Brooklyn, South S...|          89|\n",
      "|      6021| 85 dollars|Manhattan, Upper ...|          85|\n",
      "|      6848|140 dollars|Brooklyn, William...|         140|\n",
      "|      7097|215 dollars|Brooklyn, Fort Gr...|         215|\n",
      "|      7322|140 dollars|  Manhattan, Chelsea|         140|\n",
      "|      7726| 99 dollars|Brooklyn, Crown H...|          99|\n",
      "|      8024|130 dollars|Brooklyn, Park Slope|         130|\n",
      "|      8025| 80 dollars|Brooklyn, Park Slope|          80|\n",
      "|      8110|110 dollars|Brooklyn, Park Slope|         110|\n",
      "|      8490|120 dollars|Brooklyn, Bedford...|         120|\n",
      "|      8505| 60 dollars|Brooklyn, Windsor...|          60|\n",
      "|      9518| 44 dollars|   Manhattan, Inwood|          44|\n",
      "|      9657|180 dollars|Manhattan, East V...|         180|\n",
      "+----------+-----------+--------------------+------------+\n",
      "only showing top 20 rows\n",
      "\n"
     ]
    }
   ],
   "source": [
    "#¿Cuál es el precio promedio de los anuncios? Redondee a los dos decimales más cercanos y guárdelo en una variable.\n",
    "\n",
    "df_price = df_price.withColumn(\"price_number\", split(\"price\", \" \")[0])\n",
    "\n",
    "df_price.show()"
   ]
  },
  {
   "cell_type": "code",
   "execution_count": 0,
   "metadata": {
    "application/vnd.databricks.v1+cell": {
     "cellMetadata": {
      "byteLimit": 2048000,
      "rowLimit": 10000
     },
     "inputWidgets": {},
     "nuid": "c7f1ceef-7f40-4eac-b4de-8fb3a05ca320",
     "showTitle": false,
     "tableResultSettingsMap": {},
     "title": ""
    }
   },
   "outputs": [
    {
     "name": "stdout",
     "output_type": "stream",
     "text": [
      "The average listing price is: 141.78\n"
     ]
    }
   ],
   "source": [
    "\n",
    "from pyspark.sql.functions import round, avg\n",
    "\n",
    "average_price = df_price.select(round(avg(\"price_number\"), 2)).collect()[0][0]\n",
    "\n",
    "print(f\"The average listing price is: {average_price}\")"
   ]
  },
  {
   "cell_type": "code",
   "execution_count": 0,
   "metadata": {
    "application/vnd.databricks.v1+cell": {
     "cellMetadata": {
      "byteLimit": 2048000,
      "rowLimit": 10000
     },
     "inputWidgets": {},
     "nuid": "a60e2731-bafc-4b91-8a79-79116023b074",
     "showTitle": false,
     "tableResultSettingsMap": {},
     "title": ""
    }
   },
   "outputs": [
    {
     "name": "stdout",
     "output_type": "stream",
     "text": [
      "+--------------+-------------+----------------+---------+\n",
      "|first_reviewed|last_reviewed|nb_private_rooms|avg_price|\n",
      "+--------------+-------------+----------------+---------+\n",
      "| April 01 2019|  May 31 2019|            6153|   141.78|\n",
      "+--------------+-------------+----------------+---------+\n",
      "\n"
     ]
    }
   ],
   "source": [
    "#Combine las nuevas variables en un DataFrame llamado review_dates con cuatro columnas en el siguiente orden: first_reviewed, last_reviewed, nb_private_rooms y avg_price. El DataFrame solo debe contener una fila de valores.\n",
    "\n",
    "\n",
    "from pyspark.sql import Row\n",
    "from pyspark.sql.functions import min, max, round, avg\n",
    "\n",
    "# el primer datframe que se hizo de maximo y minimo, se hace lo mismo pero se pone un alias\n",
    "review_dates = df_review.select(\n",
    "    min(\"last_review\").alias(\"first_reviewed\"),\n",
    "    max(\"last_review\").alias(\"last_reviewed\")\n",
    ").collect()[0]\n",
    "\n",
    "first_reviewed = review_dates['first_reviewed']\n",
    "last_reviewed = review_dates['last_reviewed']\n",
    "\n",
    "# el segundo dataframe donde se separo en columnas independientes \n",
    "nb_private_rooms = df_room.filter(df_room.room_type == \"Private room\").count()\n",
    "\n",
    "# calcular \n",
    "avg_price = df_price.select(round(avg(\"price_number\"), 2)).collect()[0][0]\n",
    "\n",
    "# Step 4: Create a new row with all values\n",
    "review_dates_df = spark.createDataFrame([Row(first_reviewed=first_reviewed, last_reviewed=last_reviewed, nb_private_rooms=nb_private_rooms, avg_price=avg_price)])\n",
    "\n",
    "# Show the result\n",
    "review_dates_df.show()"
   ]
  }
 ],
 "metadata": {
  "application/vnd.databricks.v1+notebook": {
   "dashboards": [],
   "environmentMetadata": null,
   "language": "python",
   "notebookMetadata": {
    "pythonIndentUnit": 4
   },
   "notebookName": "Caso_3",
   "widgets": {}
  },
  "language_info": {
   "name": "python"
  }
 },
 "nbformat": 4,
 "nbformat_minor": 0
}
